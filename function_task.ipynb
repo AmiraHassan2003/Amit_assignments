{
 "cells": [
  {
   "cell_type": "markdown",
   "metadata": {},
   "source": [
    "# Function Exercises"
   ]
  },
  {
   "cell_type": "markdown",
   "metadata": {},
   "source": [
    "# Level 2"
   ]
  },
  {
   "cell_type": "code",
   "execution_count": 87,
   "metadata": {},
   "outputs": [
    {
     "data": {
      "text/plain": [
       "['Amira', 'Hassan', 'Sobhi', 'Hana', 'Mohammed']"
      ]
     },
     "execution_count": 87,
     "metadata": {},
     "output_type": "execute_result"
    }
   ],
   "source": [
    "# 1. Declare a function named **`capitalize_list_items`**\n",
    "def capitalize_list_items(*items):\n",
    "    copyItem = []\n",
    "    for item in items: \n",
    "        for word in item:\n",
    "            if (ord(word[0]) > 96) & (ord(word[0]) < 123) :  \n",
    "                copyItem.append(chr(ord(word[0]) - 32) + word[1:])\n",
    "            else:\n",
    "                copyItem.append(word[0] + word[1:])\n",
    "\n",
    "    return copyItem\n",
    "\n",
    "capitalize_list_items(['amira', 'Hassan', 'sobhi'], [\"hana\", \"Mohammed\"])"
   ]
  },
  {
   "cell_type": "code",
   "execution_count": 88,
   "metadata": {},
   "outputs": [
    {
     "name": "stdout",
     "output_type": "stream",
     "text": [
      "97\n",
      "122\n"
     ]
    }
   ],
   "source": [
    "print(ord('a'))\n",
    "print(ord('z'))"
   ]
  },
  {
   "cell_type": "code",
   "execution_count": 110,
   "metadata": {},
   "outputs": [
    {
     "name": "stdout",
     "output_type": "stream",
     "text": [
      "[1, 2, 3, 7, 55]\n"
     ]
    }
   ],
   "source": [
    "# 2. Declare a function named **`add_item`**.\n",
    "def add_item(items, item):\n",
    "    items.append(item)\n",
    "    return items\n",
    "\n",
    "print(add_item([1,2,3,7], 55))"
   ]
  },
  {
   "cell_type": "code",
   "execution_count": 204,
   "metadata": {},
   "outputs": [
    {
     "name": "stdout",
     "output_type": "stream",
     "text": [
      "[5, 4, 3, 2, 1]\n"
     ]
    }
   ],
   "source": [
    "# 3. Declare a function named **`reverse_list`**\n",
    "def reverse_list(items):\n",
    "    endLoop = len(items) // 2\n",
    "    # print(endLoop)\n",
    "    for i in range(0, endLoop):\n",
    "        temp = items[i]\n",
    "        items[i] = items[len(items) - i - 1]\n",
    "        items[len(items) - i - 1] = temp\n",
    "\n",
    "    return items\n",
    "\n",
    "\n",
    "print(reverse_list([1,2,3,4,5]))"
   ]
  },
  {
   "cell_type": "code",
   "execution_count": null,
   "metadata": {},
   "outputs": [
    {
     "name": "stdout",
     "output_type": "stream",
     "text": [
      "The number of odds are  50\n",
      "The number of evens are  51\n"
     ]
    }
   ],
   "source": [
    "# 4. Declare a function named **`evens_and_odds`**\n",
    "def evens_and_odds(num):\n",
    "    if num < 0:\n",
    "        return \"This number is negative :( \"\n",
    "    if num >= 0:\n",
    "        countOdd = 0\n",
    "        countEven = 0\n",
    "        for i in range(0, num+1):\n",
    "            if i % 2 == 0:\n",
    "                countEven += 1\n",
    "            else:\n",
    "                countOdd += 1\n",
    "        return countOdd, countEven\n",
    "    \n",
    "# result = evens_and_odds(-100)  # Negative Value\n",
    "result = evens_and_odds(100)\n",
    "\n",
    "if type(result) != str:\n",
    "    print(\"The number of odds are \", result[0])\n",
    "    print(\"The number of evens are \", result[1])\n"
   ]
  },
  {
   "cell_type": "code",
   "execution_count": 36,
   "metadata": {},
   "outputs": [
    {
     "name": "stdout",
     "output_type": "stream",
     "text": [
      "2.5\n",
      "3.5\n",
      "3\n"
     ]
    }
   ],
   "source": [
    "# 5. Write different functions which take lists\n",
    "def calculate_mean(items):\n",
    "    sum = 0\n",
    "    for i in items:\n",
    "        sum += i\n",
    "    \n",
    "    result = sum / len(items)\n",
    "    return result\n",
    "\n",
    "def calculate_median(items):\n",
    "    length = len(items) // 2\n",
    "    if len(items) % 2 == 0:\n",
    "        median = (items[length - 1] + items[length]) / 2\n",
    "    else:\n",
    "        median = items[length]\n",
    "\n",
    "    return median\n",
    "\n",
    "def calculate_mode(items):\n",
    "    repeatNum = {}\n",
    "    for i in range(0, len(items) - 1):\n",
    "        if repeatNum.get(items[i]):\n",
    "            pass\n",
    "        else:\n",
    "            repeatNum[items[i]] = 1\n",
    "\n",
    "            for j in range(i+1, len(items)):\n",
    "                if items[i] == items[j]:\n",
    "                    repeatNum[items[i]] += 1 \n",
    "    # print(repeatNum)\n",
    "    modeValue = repeatNum.get(max(repeatNum.values()))       \n",
    "    return modeValue\n",
    "\n",
    "\n",
    "print(calculate_mean([1,2,4,3,1,4]))\n",
    "print(calculate_median([1,2,4,3,1,4]))\n",
    "print(calculate_mode([1,3,4,3,1,3]))\n",
    "\n"
   ]
  },
  {
   "cell_type": "code",
   "execution_count": 37,
   "metadata": {},
   "outputs": [
    {
     "name": "stdout",
     "output_type": "stream",
     "text": [
      "1\n",
      "2\n",
      "4\n",
      "2\n",
      "1\n"
     ]
    }
   ],
   "source": [
    "# 6. Declare a function named **`print_list`**\n",
    "def print_list(items):\n",
    "    for i in items:\n",
    "        print(i)\n",
    "\n",
    "print_list([1,2,4,2,1])\n",
    "    "
   ]
  },
  {
   "cell_type": "markdown",
   "metadata": {},
   "source": [
    "# Level 3"
   ]
  },
  {
   "cell_type": "code",
   "execution_count": null,
   "metadata": {},
   "outputs": [
    {
     "name": "stdout",
     "output_type": "stream",
     "text": [
      "True\n",
      "False\n"
     ]
    }
   ],
   "source": [
    "# 1. Write a function called **`is_prime`**\n",
    "def isPrime(num):\n",
    "    if ((num % 2 == 0) & (num != 2)) | ((num % 3 == 0) & (num != 3)):\n",
    "        return False\n",
    "    else:\n",
    "        return True\n",
    "\n",
    "def isPrimeWithLoop(num):\n",
    "    count = 0\n",
    "    endLoop = num // 2\n",
    "    for i in range(1, endLoop + 1):\n",
    "        if num % i == 0:\n",
    "            count += 1\n",
    "\n",
    "    if count > 1:\n",
    "        return False\n",
    "    else:\n",
    "        return True\n",
    "    \n",
    "print(isPrime(3))\n",
    "print(isPrimeWithLoop(8))\n"
   ]
  },
  {
   "cell_type": "code",
   "execution_count": 63,
   "metadata": {},
   "outputs": [
    {
     "name": "stdout",
     "output_type": "stream",
     "text": [
      "False\n",
      "True\n"
     ]
    }
   ],
   "source": [
    "# 2. Write a functions which checks if all items are unique in the list.\n",
    "def isUnique(items):\n",
    "    for i in range(0, len(items) - 1):\n",
    "        for j in range(i+1, len(items)):\n",
    "            if items[i] == items[j]:\n",
    "                return False\n",
    "    return True  \n",
    "\n",
    "print(isUnique([9,3,9,1,2])) \n",
    "print(isUnique([9,3,7,1,2]))  \n"
   ]
  },
  {
   "cell_type": "code",
   "execution_count": null,
   "metadata": {},
   "outputs": [
    {
     "name": "stdout",
     "output_type": "stream",
     "text": [
      "False\n",
      "True\n"
     ]
    }
   ],
   "source": [
    "# 3. Write a function which checks if all the items of the list are of the same data type.\n",
    "def isSameDataType(*items):\n",
    "    for i in range(0, len(items)-1):\n",
    "        for j in range(i + 1, len(items)):\n",
    "            # print(type(items[j]))\n",
    "            if type(items[i]) != type(items[j]):\n",
    "                return False\n",
    "    return True\n",
    "\n",
    "print(isSameDataType([1,2,3], (4,3,2), {2:3, 5:7}))\n",
    "print(isSameDataType([1,2,3], [4,3,2], [2,5]))\n"
   ]
  },
  {
   "cell_type": "code",
   "execution_count": 76,
   "metadata": {},
   "outputs": [
    {
     "name": "stdout",
     "output_type": "stream",
     "text": [
      "True\n",
      "False\n"
     ]
    }
   ],
   "source": [
    "# 3. Write a function which checks if all the items of the list are of the same data type.\n",
    "def isSameDataType(items):\n",
    "    for i in range(0, len(items)-1):\n",
    "        for j in range(i + 1, len(items)):\n",
    "            # print(type(items[j]))\n",
    "            if type(items[i]) != type(items[j]):\n",
    "                return False\n",
    "    return True\n",
    "\n",
    "print(isSameDataType([1,2,3]))\n",
    "print(isSameDataType([1,2,\"abc\",3]))"
   ]
  },
  {
   "cell_type": "code",
   "execution_count": null,
   "metadata": {},
   "outputs": [
    {
     "name": "stdout",
     "output_type": "stream",
     "text": [
      "False\n",
      "True\n",
      "False\n",
      "True\n"
     ]
    }
   ],
   "source": [
    "# 4. Write a function which check if provided variable is a valid python variable\n",
    "import re\n",
    "def isValidVariable(var):\n",
    "    valid = re.search(\"[A-Za-z_]\", var[0])\n",
    "    if valid :\n",
    "        # print(valid)\n",
    "        return True\n",
    "    return False\n",
    "    \n",
    "\n",
    "print(isValidVariable(\"&f\"))\n",
    "print(isValidVariable(\"_f\"))\n",
    "print(isValidVariable(\"6f\"))\n",
    "print(isValidVariable(\"xyz\"))\n",
    "\n",
    "# Ref -> https://www.w3schools.com/python/python_regex.asp"
   ]
  }
 ],
 "metadata": {
  "kernelspec": {
   "display_name": "Python 3",
   "language": "python",
   "name": "python3"
  },
  "language_info": {
   "codemirror_mode": {
    "name": "ipython",
    "version": 3
   },
   "file_extension": ".py",
   "mimetype": "text/x-python",
   "name": "python",
   "nbconvert_exporter": "python",
   "pygments_lexer": "ipython3",
   "version": "3.13.0"
  }
 },
 "nbformat": 4,
 "nbformat_minor": 2
}
