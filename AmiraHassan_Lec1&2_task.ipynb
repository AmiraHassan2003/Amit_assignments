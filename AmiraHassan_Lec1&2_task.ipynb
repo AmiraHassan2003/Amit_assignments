{
 "cells": [
  {
   "cell_type": "markdown",
   "metadata": {},
   "source": [
    "Exercises String"
   ]
  },
  {
   "cell_type": "code",
   "execution_count": 69,
   "metadata": {},
   "outputs": [
    {
     "name": "stdout",
     "output_type": "stream",
     "text": [
      "amira hassan sobhi sadsad sfesgthyj \n"
     ]
    }
   ],
   "source": [
    "# 1. Concatenate the string **`Python`**, **`4`**, **`Data`**, **`Science`** to a single string, **`Python 4 Data Science`**.\n",
    "myStr = \"\"\n",
    "numWords = 4\n",
    "for i in range(0, numWords):\n",
    "    word = input(\"Enter word : \")\n",
    "    myStr += word + \" \"\n",
    "\n",
    "print(myStr)"
   ]
  },
  {
   "cell_type": "code",
   "execution_count": 70,
   "metadata": {},
   "outputs": [],
   "source": [
    "# 2. Declare a variable named **`course`** and assign it to an initial value **`Python 4 Data Science`**.\n",
    "course = \"Python 4 Data Science\""
   ]
  },
  {
   "cell_type": "code",
   "execution_count": 71,
   "metadata": {},
   "outputs": [
    {
     "name": "stdout",
     "output_type": "stream",
     "text": [
      "length:  21\n"
     ]
    }
   ],
   "source": [
    "course = \"Python 4 Data Science\"\n",
    "# 3. Print the length of the **`course`** string using **[len()]()** method and **[print()]()**.\n",
    "print(\"length: \", len(course)) # length:  21"
   ]
  },
  {
   "cell_type": "code",
   "execution_count": 72,
   "metadata": {},
   "outputs": [
    {
     "name": "stdout",
     "output_type": "stream",
     "text": [
      "Upper:  PYTHON 4 DATA SCIENCE\n",
      "Lower:  python 4 data science\n"
     ]
    }
   ],
   "source": [
    "course = \"Python 4 Data Science\"\n",
    "# 4. Change all the characters of variable course to uppercase and lowercase letters using **[upper()]()** and **[lower()]()** method.\n",
    "print(\"Upper: \", course.upper()) # Upper:  PYTHON 4 DATA SCIENCE\n",
    "print(\"Lower: \", course.lower()) # Lower:  python 4 data science"
   ]
  },
  {
   "cell_type": "code",
   "execution_count": 73,
   "metadata": {},
   "outputs": [
    {
     "name": "stdout",
     "output_type": "stream",
     "text": [
      "capitalize:  Python 4 data science\n",
      "title:  Python 4 Data Science\n",
      "swapcase:  pYTHON 4 dATA sCIENCE\n"
     ]
    }
   ],
   "source": [
    "course = \"Python 4 Data Science\"\n",
    "# 5. Use **[capitalize()]()**, **[title()]()**, **[swapcase()]()** methods to format the value of the string **`Python 4 Data Science`**.\n",
    "print(\"capitalize: \", course.capitalize()) # capitalize:  Python 4 data science\n",
    "print(\"title: \", course.title()) # title:  Python 4 Data Science\n",
    "print(\"swapcase: \", course.swapcase()) # swapcase:  pYTHON 4 dATA sCIENCE"
   ]
  },
  {
   "cell_type": "code",
   "execution_count": 74,
   "metadata": {},
   "outputs": [
    {
     "name": "stdout",
     "output_type": "stream",
     "text": [
      "slice:  Python\n",
      "True\n"
     ]
    }
   ],
   "source": [
    "course = \"Python 4 Data Science\"\n",
    "# 6. Cut(slice) out the first word of **`Python 4 Data Science`**.\n",
    "print(\"slice: \", course.split()[0]) # slice:  Python\n",
    "\n",
    "if course.index(\"Python\") >= 0:\n",
    "    print(\"True\")   # True"
   ]
  },
  {
   "cell_type": "code",
   "execution_count": 75,
   "metadata": {},
   "outputs": [
    {
     "name": "stdout",
     "output_type": "stream",
     "text": [
      "True\n"
     ]
    }
   ],
   "source": [
    "# 7. Check if **`Python 4 Data Science`** string contains a word **`Python`** using the method: **[index()]()**, **[find()]()** or other methods.\n",
    "course = \"Python 4 Data Science\"\n",
    "if course.find(\"Python\") != -1:\n",
    "    print(\"True\")   # True"
   ]
  },
  {
   "cell_type": "code",
   "execution_count": 76,
   "metadata": {},
   "outputs": [
    {
     "name": "stdout",
     "output_type": "stream",
     "text": [
      "Python 4 Everybody\n"
     ]
    }
   ],
   "source": [
    "# 8. Change **`Python 4 Data Science`** to **`Python 4 Everybody`** using the **[replace()]()** method or other methods.\n",
    "course = \"Python 4 Data Science\"\n",
    "print(course.replace(\"Data Science\", \"Everybody\")) # Python 4 Everybody"
   ]
  },
  {
   "cell_type": "code",
   "execution_count": 77,
   "metadata": {},
   "outputs": [
    {
     "data": {
      "text/plain": [
       "['Python', '4', 'Data', 'Science']"
      ]
     },
     "execution_count": 77,
     "metadata": {},
     "output_type": "execute_result"
    }
   ],
   "source": [
    "# 9. Split the string **`Python 4 Data Science`** using space as the separator (**[split()]()**).\n",
    "course.split(\" \") # ['Python', '4', 'Data', 'Science']"
   ]
  },
  {
   "cell_type": "code",
   "execution_count": 78,
   "metadata": {},
   "outputs": [
    {
     "data": {
      "text/plain": [
       "['Google', ' Facebook', ' Microsoft', ' Apple', ' IBM', ' Oracle', ' Amazon']"
      ]
     },
     "execution_count": 78,
     "metadata": {},
     "output_type": "execute_result"
    }
   ],
   "source": [
    "# 10. **`Google, Facebook, Microsoft, Apple, IBM, Oracle, Amazon`** split the string at the comma.\n",
    "myStr = \"Google, Facebook, Microsoft, Apple, IBM, Oracle, Amazon\"\n",
    "myStr.split(\",\")"
   ]
  },
  {
   "cell_type": "code",
   "execution_count": 79,
   "metadata": {},
   "outputs": [
    {
     "name": "stdout",
     "output_type": "stream",
     "text": [
      "index 9:  D\n"
     ]
    }
   ],
   "source": [
    "# 11. What is the character at index 9 in the string **`Python 4 Data Science`**.\n",
    "course = \"Python 4 Data Science\"\n",
    "print(\"index 9: \",course[9]) # index 9:  D"
   ]
  },
  {
   "cell_type": "code",
   "execution_count": 80,
   "metadata": {},
   "outputs": [
    {
     "name": "stdout",
     "output_type": "stream",
     "text": [
      "second last index:  c\n"
     ]
    }
   ],
   "source": [
    "course = \"Python 4 Data Science\"\n",
    "# 12. What is the second last index of the string **`Python 4 Data Science`**.\n",
    "print(\"second last index: \",course[-2]) # second last index:  c"
   ]
  },
  {
   "cell_type": "code",
   "execution_count": 81,
   "metadata": {},
   "outputs": [
    {
     "name": "stdout",
     "output_type": "stream",
     "text": [
      "abbreviation:  P4DS\n"
     ]
    }
   ],
   "source": [
    "course = \"Python 4 Data Science\"\n",
    "# 13. Create an acronym or an abbreviation for the name **`Python 4 Data Science`**.\n",
    "abbrevation = \"\"\n",
    "for i in course.split(\" \"):\n",
    "    abbrevation += i[0]\n",
    "print(\"abbreviation: \", abbrevation) # abbreviation:  P4DS"
   ]
  },
  {
   "cell_type": "code",
   "execution_count": 82,
   "metadata": {},
   "outputs": [
    {
     "name": "stdout",
     "output_type": "stream",
     "text": [
      "index D:  9\n"
     ]
    }
   ],
   "source": [
    "course = \"Python 4 Data Science\"\n",
    "# 14. Use **[index()]** to determine the position of the first occurrence of **`D`** in **`Python 4 Data Science`**.\n",
    "print(\"index D: \", course.index(\"D\")) # index D:  9"
   ]
  },
  {
   "cell_type": "code",
   "execution_count": 83,
   "metadata": {},
   "outputs": [
    {
     "data": {
      "text/plain": [
       "20"
      ]
     },
     "execution_count": 83,
     "metadata": {},
     "output_type": "execute_result"
    }
   ],
   "source": [
    "# 15. Use **[rfind]()** to determine the position of the last occurrence of **`e`** in **`Python 4 Data Science`**.\n",
    "course = \"Python 4 Data Science\"\n",
    "course.rfind(\"e\")"
   ]
  },
  {
   "cell_type": "code",
   "execution_count": 84,
   "metadata": {},
   "outputs": [
    {
     "name": "stdout",
     "output_type": "stream",
     "text": [
      "33\n",
      "33\n"
     ]
    }
   ],
   "source": [
    "# 16. Use **[index()]()** or **[find()]()** to find the position of the first occurrence of the word **`because`**\n",
    "myStr = \"We cannot end the sentence with ‘because’, because ‘because’ is a conjunction.\"\n",
    "print(myStr.index(\"because\")) # 33\n",
    "print(myStr.find(\"because\")) # 33"
   ]
  },
  {
   "cell_type": "code",
   "execution_count": 85,
   "metadata": {},
   "outputs": [
    {
     "name": "stdout",
     "output_type": "stream",
     "text": [
      "First:  33\n",
      "Last:  52\n"
     ]
    }
   ],
   "source": [
    "# 17. Use **[rindex]()** to find the position of the first and last occurrence of the word **`because`**\n",
    "myStr = \"We cannot end the sentence with ‘because’, because ‘because’ is a conjunction.\"\n",
    "print(\"First: \", myStr.index(\"because\"))\n",
    "print(\"Last: \", myStr.rindex(\"because\"))"
   ]
  },
  {
   "cell_type": "code",
   "execution_count": 86,
   "metadata": {},
   "outputs": [
    {
     "name": "stdout",
     "output_type": "stream",
     "text": [
      "because’, because ‘because’\n"
     ]
    }
   ],
   "source": [
    "# 18. Slice out the phrase **`‘because’, because ‘because’`**\n",
    "myStr = \"We cannot end the sentence with ‘because’, because ‘because’ is a conjunction.\"\n",
    "end = myStr.rindex(\"because\") + len(\"because\") + 1\n",
    "start = myStr.index(\"because\")\n",
    "print(myStr[start:end])"
   ]
  },
  {
   "cell_type": "code",
   "execution_count": 87,
   "metadata": {},
   "outputs": [
    {
     "name": "stdout",
     "output_type": "stream",
     "text": [
      "True\n"
     ]
    }
   ],
   "source": [
    "# 19. Does **`Python 4 Data Science`** start with a substring **`Python`**?\n",
    "course = \"Python 4 Data Science\"\n",
    "if course.find(\"Python\") == 0:\n",
    "    print(\"True\")\n",
    "else:\n",
    "    print(\"False\")"
   ]
  },
  {
   "cell_type": "code",
   "execution_count": 88,
   "metadata": {},
   "outputs": [
    {
     "name": "stdout",
     "output_type": "stream",
     "text": [
      "True\n"
     ]
    }
   ],
   "source": [
    "# 20. Does '**`Python 4 Data Science`** contains with a substring **`Python`**?\n",
    "course = \"Python 4 Data Science\"\n",
    "if course.find(\"Python\") != -1:\n",
    "    print(\"True\")\n",
    "else:\n",
    "    print(\"False\")"
   ]
  },
  {
   "cell_type": "code",
   "execution_count": 89,
   "metadata": {},
   "outputs": [
    {
     "data": {
      "text/plain": [
       "'Python 4 DataScience'"
      ]
     },
     "execution_count": 89,
     "metadata": {},
     "output_type": "execute_result"
    }
   ],
   "source": [
    "# 21. remove the left and right trailing spaces in the given string.\n",
    "courseWithSpace = \"             Python 4 DataScience                                  \"\n",
    "courseWithSpace.strip()"
   ]
  },
  {
   "cell_type": "code",
   "execution_count": 90,
   "metadata": {},
   "outputs": [
    {
     "data": {
      "text/plain": [
       "'Django-Flask-Bottle-Pyramid-Falcon'"
      ]
     },
     "execution_count": 90,
     "metadata": {},
     "output_type": "execute_result"
    }
   ],
   "source": [
    "# 22. The following list contains the names of some of python libraries:**`['Django', 'Flask', 'Bottle', 'Pyramid', 'Falcon']`**\n",
    " # Join the list with a hash with space string.\n",
    "librariesPython = ['Django', 'Flask', 'Bottle', 'Pyramid', 'Falcon']\n",
    "librariesPythonStr = \"-\".join(librariesPython)\n",
    "librariesPythonStr\n"
   ]
  },
  {
   "cell_type": "code",
   "execution_count": 91,
   "metadata": {},
   "outputs": [
    {
     "name": "stdout",
     "output_type": "stream",
     "text": [
      "False\n",
      "True\n"
     ]
    }
   ],
   "source": [
    "\n",
    "#  24. Which one of the following variables return True when we use the method **[isidentifier()]()**\n",
    "#     ```py\n",
    "#     2021PythonDataypes\n",
    "#     Python_Dataypes_2021\n",
    "\n",
    "print(\"2021PythonDataypes\".isidentifier())\n",
    "print(\"Python_Dataypes_2021\".isidentifier())"
   ]
  },
  {
   "cell_type": "code",
   "execution_count": 92,
   "metadata": {},
   "outputs": [
    {
     "name": "stdout",
     "output_type": "stream",
     "text": [
      "8 + 6 = 14\n",
      "8 - 6 = 2\n",
      "8 * 6 = 48\n",
      "8 / 6 = 1.3333333333333333\n",
      "8 % 6 = 2\n",
      "8 / 6 = 1\n",
      "8 * 6 = 262144\n"
     ]
    }
   ],
   "source": [
    "# 25. Make the following using string formatting methods:\n",
    "# 8 + 6 = 14\n",
    "# 8 - 6 = 2\n",
    "# 8 * 6 = 48\n",
    "# 8 / 6 = 1.33\n",
    "# 8 % 6 = 2\n",
    "# 8 // 6 = 1\n",
    "# 8 ** 6 = 262144\n",
    "\n",
    "operatotors = [\"\"] \n",
    "mystr = \"+ - * / % // ** = \"\n",
    "print(8, mystr[mystr.index(\"+\")] ,6, mystr[mystr.index(\"=\")], 8 + 6)\n",
    "print(8, mystr[mystr.index(\"-\")] ,6, mystr[mystr.index(\"=\")], 8 - 6)\n",
    "print(8, mystr[mystr.index(\"*\")] ,6, mystr[mystr.index(\"=\")], 8 * 6)\n",
    "print(8, mystr[mystr.index(\"/\")] ,6, mystr[mystr.index(\"=\")], 8 / 6)\n",
    "print(8, mystr[mystr.index(\"%\")] ,6, mystr[mystr.index(\"=\")], 8 % 6)\n",
    "print(8, mystr[mystr.index(\"//\")] ,6, mystr[mystr.index(\"=\")], 8 // 6)\n",
    "print(8, mystr[mystr.index(\"**\")] ,6, mystr[mystr.index(\"=\")], 8 ** 6)"
   ]
  },
  {
   "cell_type": "code",
   "execution_count": 93,
   "metadata": {},
   "outputs": [
    {
     "name": "stdout",
     "output_type": "stream",
     "text": [
      "Name\t Age\t Country\t City \n",
      "Milaan\t 96\t Finland\t Tampere\n"
     ]
    }
   ],
   "source": [
    "# 26. Use a **new line** and **tab** escape sequence to print the following lines.\n",
    "#      ```py\n",
    "#     Name      Age     Country   City\n",
    "#     Milaan    96      Finland   Tampere\n",
    "\n",
    "print(\"Name\\t Age\\t Country\\t City \\nMilaan\\t 96\\t Finland\\t Tampere\")"
   ]
  },
  {
   "cell_type": "markdown",
   "metadata": {},
   "source": [
    "Exercises If & if-elif-else"
   ]
  },
  {
   "cell_type": "code",
   "execution_count": 94,
   "metadata": {},
   "outputs": [
    {
     "name": "stdout",
     "output_type": "stream",
     "text": [
      "You are old enough to learn to drive.\n"
     ]
    }
   ],
   "source": [
    "# 1.  Get user input using **`input(“Enter your age: ”)`**. If user is 18 or older, give feedback: **`You are old enough to drive`**. If below 18 give feedback to **`wait for the missing amount of years`**.\n",
    "\n",
    "# Output:\n",
    "\n",
    "# ```py\n",
    "#     Enter your age: 30\n",
    "#     You are old enough to learn to drive.\n",
    "#     Output:\n",
    "#     Enter your age: 15\n",
    "#     You need 3 more years to learn to drive.\n",
    "\n",
    "age = int(input(\"Enter your age\"))\n",
    "if age > 18:\n",
    "    print(\"You are old enough to learn to drive.\")\n",
    "else:\n",
    "    print(\"You need\", 18 - age ,\"more years to learn to drive.\")"
   ]
  },
  {
   "cell_type": "code",
   "execution_count": 95,
   "metadata": {},
   "outputs": [
    {
     "name": "stdout",
     "output_type": "stream",
     "text": [
      "You are 3 years older than me.\n"
     ]
    }
   ],
   "source": [
    "# 2.  Compare the values of my_age and your_age using if-else. Who is older (me or you)? Use input(“Enter your age: ”) to get the age as input.\n",
    "\n",
    "# Output:\n",
    "\n",
    "# ```py\n",
    "#     Enter your age: 30\n",
    "#     You are 5 years older than me.\n",
    "# ```\n",
    "\n",
    "my_age = 21\n",
    "your_age = int(input(\"Enter your age: \"))\n",
    "if your_age > my_age:\n",
    "    print(\"You are\", your_age - my_age, \"years older than me.\")\n",
    "else:\n",
    "    print(\"You are\", my_age - your_age, \"years younger than me.\")\n",
    "\n"
   ]
  },
  {
   "cell_type": "code",
   "execution_count": 96,
   "metadata": {},
   "outputs": [
    {
     "name": "stdout",
     "output_type": "stream",
     "text": [
      "6 is less than 8\n"
     ]
    }
   ],
   "source": [
    "# 3.  Get two numbers from the user using input prompt. If **`num_1`** is greater than **`num_2`** return **`num_1`** is greater than **`num_2`**, if **`num_1`** is less **`num_2`** return **`num_1`** is smaller than **`num_2`**, else **`num_1`** is equal to **`num_2`**. Output:\n",
    "\n",
    "# ```sh\n",
    "# Enter number one: 9\n",
    "# Enter number two: 6\n",
    "# 9 is greater than 6\n",
    "# ```\n",
    "\n",
    "num_1 = int(input(\"Enter number one: \"))\n",
    "num_2 = int(input(\"Enter num two: \"))\n",
    "if num_1 > num_2:\n",
    "    print(num_1, \"is greater than\", num_2)\n",
    "elif num_1 < num_2:\n",
    "    print(num_1, \"is less than\", num_2)\n",
    "else:\n",
    "    print(num_1, \"is equal to\", num_2)"
   ]
  },
  {
   "cell_type": "code",
   "execution_count": 97,
   "metadata": {},
   "outputs": [
    {
     "name": "stdout",
     "output_type": "stream",
     "text": [
      "B\n"
     ]
    }
   ],
   "source": [
    "# 4. Write a code which gives grade to students according to theirs scores:\n",
    "   \n",
    "# ```py\n",
    "#  80-100, A\n",
    "#  70-89, B\n",
    "#  60-69, C\n",
    "#  50-59, D\n",
    "#  0-49, F\n",
    "# ```\n",
    "\n",
    "grade = int(input(\"Enter your grade: \"))\n",
    "if (grade >= 80) & (grade <= 100):\n",
    "    print(\"A\")\n",
    "elif (grade >= 70) & (grade <= 89):\n",
    "    print(\"B\") \n",
    "elif (grade >= 60) & (grade <= 69):\n",
    "    print(\"C\")\n",
    "elif (grade >= 50) & (grade <= 59):\n",
    "    print(\"D\")\n",
    "elif (grade >= 0) & (grade <= 49):\n",
    "    print(\"F\")\n",
    "else:\n",
    "    print(\"the grade must be between 100 and 0\")"
   ]
  },
  {
   "cell_type": "code",
   "execution_count": 98,
   "metadata": {},
   "outputs": [
    {
     "name": "stdout",
     "output_type": "stream",
     "text": [
      "the season is Winter.\n"
     ]
    }
   ],
   "source": [
    "# 5. Check if the season is Autumn, Winter, Spring or Summer.\n",
    "#     - If the user input is:\n",
    "#         - September, October or November, the season is Autumn.\n",
    "#         - December, January or February, the season is Winter.\n",
    "#         - March, April or May, the season is Spring\n",
    "#         - June, July or August, the season is Summer\n",
    "\n",
    "month = input(\"Enter month name: \")\n",
    "if (month == \"September\") | (month == \"October\") | (month == \"November\"):\n",
    "    print(\"the season is Autumn.\")\n",
    "elif (month == \"December\") | (month == \"January\") | (month == \"Febrauary\"):\n",
    "    print(\"the season is Winter.\")\n",
    "elif (month == \"March\") | (month == \"April\") | (month == \"May\"):\n",
    "    print(\"the season is Spring.\")\n",
    "else:\n",
    "    print(\"the season is Summer.\")"
   ]
  },
  {
   "cell_type": "code",
   "execution_count": 99,
   "metadata": {},
   "outputs": [
    {
     "name": "stdout",
     "output_type": "stream",
     "text": [
      "['banana', 'orange', 'mango', 'pear', 'apple']\n"
     ]
    }
   ],
   "source": [
    "# 6.  The following list contains some fruits:\n",
    "#    - If a fruit doesn't exist in the list add the fruit to the list and print the modified list. If the fruit exists print **\n",
    "#    `('That fruit already exist in the list')`**\n",
    "\n",
    "fruits = ['banana', 'orange', 'mango', 'pear']\n",
    "kind_fryits = input(\"\")\n",
    "if kind_fryits in fruits:\n",
    "    print(\"That fruit already exist in the list.\")\n",
    "else:\n",
    "    fruits.append(kind_fryits)\n",
    "    print(fruits)  \n",
    "\n",
    "\n"
   ]
  },
  {
   "cell_type": "code",
   "execution_count": 100,
   "metadata": {},
   "outputs": [
    {
     "name": "stdout",
     "output_type": "stream",
     "text": [
      "R\n",
      "Yes, he has Python skills\n",
      "He knows machine learning\n"
     ]
    }
   ],
   "source": [
    "# 7. Here we have a person dictionary. Feel free to modify it!\n",
    "\n",
    "person={\n",
    "    'first_name': 'Baraa',\n",
    "    'last_name': 'Sallout',\n",
    "    'age': 25,\n",
    "    'country': 'Gaza-Palstine',\n",
    "    'is_married': False,\n",
    "    'skills': ['Python', 'Matlab', 'R', 'C', 'C++'],\n",
    "    'address': {\n",
    "        'street': 'Makka street',\n",
    "        'zipcode': '00000'\n",
    "    }\n",
    "}\n",
    "\n",
    "# * Check if the person dictionary has skills key, if so print out the middle skill in the skills list.\n",
    "if \"skills\" in person.keys():\n",
    "    print(person[\"skills\"][len(person['skills']) // 2])\n",
    "\n",
    "    # * Check if the person dictionary has skills key, if so check if the person has 'Python' skill and print out the result.\n",
    "    if \"Python\" in person[\"skills\"]:\n",
    "        print(\"Yes, he has Python skills\")\n",
    "\n",
    "    # * If a person skills has only Python and Matlab, print('He knows machine learning'), if the person skills has Python, and R print('He knows statistics'), if the person skills has C, and C++, Print('He knows software development'), else print('unknown title') - for more accurate results more conditions can be nested!\n",
    "    if (\"Python\" in person[\"skills\"]) & (\"Matlab\" in person[\"skills\"]):\n",
    "        print(\"He knows machine learning\")\n",
    "    elif (\"Python\" in person[\"skills\"]) & (\"R\" in person[\"skills\"]):\n",
    "        print(\"He knows statistics.\")\n",
    "    elif (\"C\" in person[\"skills\"]) & (\"C++\" in person[\"skills\"]):\n",
    "        print(\"He knows software development\")\n",
    "    else:\n",
    "        print(\"Unknown title\")\n",
    "\n",
    "# * If the person is married and if he lives in Gaza, print the information in the following format:\n",
    "    if (person[\"is_married\"] == True) & (person[\"country\"] == \"Gaza-Palstine\"):\n",
    "        print(person[\"first_name\"], person[\"last_name\"], \"lives in Finland. He is married\")\n",
    "# ```py\n",
    "#     Baraa Sallout lives in Finland. He is married.\n",
    "# ```"
   ]
  },
  {
   "cell_type": "code",
   "execution_count": 101,
   "metadata": {},
   "outputs": [
    {
     "name": "stdout",
     "output_type": "stream",
     "text": [
      "You are 4 years greater than me.\n"
     ]
    }
   ],
   "source": [
    "# 8.  Compare the values of my_age and your_age using **`if-else`**. Who is older (me or you)? Use **`input(“Enter your age: ”)`** to get the age as input. You can use a nested condition to print **`'year'`** for 1 year difference in age, **`'years'`** for bigger differences, and a custom text if **`my_age = your_age`**.\n",
    "\n",
    "# Output:\n",
    "\n",
    "# ```py\n",
    "#     Enter your age: 30\n",
    "#     You are 5 years older than me.\n",
    "# ```\n",
    "\n",
    "my_age = 21\n",
    "your_age = int(input(\"Enter your age: \"))\n",
    "if your_age > my_age:\n",
    "    if (your_age - my_age) == 1:\n",
    "        print(\"You are a year greater than me.\")\n",
    "    else:\n",
    "        print(\"You are\", your_age - my_age, \"years greater than me.\")\n",
    "elif your_age < my_age:\n",
    "    if (my_age - your_age) == 1:\n",
    "        print(\"You are a year younger than me.\")\n",
    "    else:\n",
    "        print(\"You are\" , my_age - your_age, \"years younger than me.\")\n",
    "else:\n",
    "    print(\"We are in the same age\")\n"
   ]
  },
  {
   "cell_type": "code",
   "execution_count": 102,
   "metadata": {},
   "outputs": [
    {
     "name": "stdout",
     "output_type": "stream",
     "text": [
      "Negative\n"
     ]
    }
   ],
   "source": [
    "# 9. Write a Python program that asks the user for a number and checks whether it is positive, negative, or zero using nested if statements.\n",
    "num = int(input(\"Enter the num to check it is positive, negatiove, or zero: \"))\n",
    "if num > 0:\n",
    "    print(\"Positive\")\n",
    "elif num < 0:\n",
    "    print(\"Negative\")\n",
    "else:\n",
    "    print(\"Zero\")\n"
   ]
  },
  {
   "cell_type": "code",
   "execution_count": 103,
   "metadata": {},
   "outputs": [
    {
     "name": "stdout",
     "output_type": "stream",
     "text": [
      "It Is a Leap Year\n"
     ]
    }
   ],
   "source": [
    "# 10. Write a Python program that checks whether a given year is a leap year. A leap year is exactly divisible by 4 except for years which are exactly divisible by 100. However, years exactly divisible by 400 are leap years\n",
    "year = int(input(\"Enter year to check it is leap or not: \"))\n",
    "if ( (year % 4 == 0) & (year % 100 != 0) | (year % 400 == 0) ):\n",
    "    print(\"It Is a Leap Year\")\n",
    "else:\n",
    "    print(\"It Is Not a Leap Year\")\n",
    "\n"
   ]
  },
  {
   "cell_type": "markdown",
   "metadata": {},
   "source": [
    "Exercises List"
   ]
  },
  {
   "cell_type": "markdown",
   "metadata": {},
   "source": [
    "***** Level 1 *****"
   ]
  },
  {
   "cell_type": "code",
   "execution_count": 104,
   "metadata": {},
   "outputs": [
    {
     "data": {
      "text/plain": [
       "7"
      ]
     },
     "execution_count": 104,
     "metadata": {},
     "output_type": "execute_result"
    }
   ],
   "source": [
    "# 1. Declare a list with more than 5 items with different data types\n",
    "my_list = [1, \"str\", (2,3,4), 'b' ,[\"a\", 4, \"b\"], 4.56, 'a']\n",
    "\n",
    "# 2. Find the length of your list\n",
    "len(my_list)"
   ]
  },
  {
   "cell_type": "code",
   "execution_count": 105,
   "metadata": {},
   "outputs": [
    {
     "name": "stdout",
     "output_type": "stream",
     "text": [
      "First:  1\n",
      "Middle:  b\n",
      "Last:  a\n"
     ]
    }
   ],
   "source": [
    "# 3. Get the first item, the middle item and the last item of the list\n",
    "print(\"First: \", my_list[0])\n",
    "print(\"Middle: \", my_list[len(my_list)//2])\n",
    "print(\"Last: \", my_list[len(my_list)-1])"
   ]
  },
  {
   "cell_type": "code",
   "execution_count": 106,
   "metadata": {},
   "outputs": [],
   "source": [
    "# 4. Declare a list **`called my_info`**, put your (name, age, height, marital status, country)\n",
    "my_info = [\"Amira Hassan\", 21, 165 , \"single\", \"Egypt\"]"
   ]
  },
  {
   "cell_type": "code",
   "execution_count": 107,
   "metadata": {},
   "outputs": [
    {
     "name": "stdout",
     "output_type": "stream",
     "text": [
      "['Guava', 'Mango', 'Apple', 'Pear', 'Fig', 'Orange', 'Banana']\n",
      "7\n"
     ]
    }
   ],
   "source": [
    "# 5. Declare a list variable named **`mix_fruits`** and assign initial values Guava, Mango, Apple, Pear, Fig, Orange and Banana and print the list.\n",
    "mix_fruits = [\"Guava\", \"Mango\", \"Apple\", \"Pear\", \"Fig\", \"Orange\", \"Banana\"]\n",
    "mix_fruits\n",
    "\n",
    "# 6. Print the list using **[print()]()**\n",
    "print(mix_fruits)\n",
    "\n",
    "# 7. Print the number of **`mix_fruits`** in the list\n",
    "print(len(mix_fruits))"
   ]
  },
  {
   "cell_type": "code",
   "execution_count": 108,
   "metadata": {},
   "outputs": [
    {
     "name": "stdout",
     "output_type": "stream",
     "text": [
      "First:  Guava\n",
      "Middle:  Pear\n",
      "Last:  Banana\n"
     ]
    }
   ],
   "source": [
    "mix_fruits = [\"Guava\", \"Mango\", \"Apple\", \"Pear\", \"Fig\", \"Orange\", \"Banana\"]\n",
    "\n",
    "# 8. Print the first, middle and last fruit\n",
    "print(\"First: \", mix_fruits[0])\n",
    "print(\"Middle: \", mix_fruits[len(mix_fruits)//2])\n",
    "print(\"Last: \", mix_fruits[len(mix_fruits)-1])"
   ]
  },
  {
   "cell_type": "code",
   "execution_count": 109,
   "metadata": {},
   "outputs": [
    {
     "name": "stdout",
     "output_type": "stream",
     "text": [
      "['Kiwi', 'Mango', 'Apple', 'Pear', 'Fig', 'Orange', 'Banana']\n",
      "['Kiwi', 'Mango', 'Apple', 'Pear', 'Fig', 'Orange', 'Banana', 'Pomegranate']\n"
     ]
    }
   ],
   "source": [
    "mix_fruits = [\"Guava\", \"Mango\", \"Apple\", \"Pear\", \"Fig\", \"Orange\", \"Banana\"]\n",
    "\n",
    "# 9. Print the list after modifying one of the fruit\n",
    "mix_fruits[0] = \"Kiwi\"\n",
    "print(mix_fruits)\n",
    "\n",
    "# 10. Add an fruit to variable **`mix_fruits`**\n",
    "mix_fruits.append(\"Pomegranate\")\n",
    "print(mix_fruits)"
   ]
  },
  {
   "cell_type": "code",
   "execution_count": 110,
   "metadata": {},
   "outputs": [
    {
     "name": "stdout",
     "output_type": "stream",
     "text": [
      "['Guava', 'Mango', 'Apple', 'Grape', 'Pear', 'Fig', 'Orange', 'Banana']\n",
      "['GUAVA', 'Mango', 'Apple', 'Grape', 'Pear', 'Fig', 'Orange', 'Banana']\n"
     ]
    }
   ],
   "source": [
    "mix_fruits = [\"Guava\", \"Mango\", \"Apple\", \"Pear\", \"Fig\", \"Orange\", \"Banana\"]\n",
    "\n",
    "# 11. Insert an fruit in the middle of the **`mix_fruits`** list\n",
    "mix_fruits.insert(len(mix_fruits)//2, \"Grape\")\n",
    "print(mix_fruits)\n",
    "\n",
    "# 12. Change one of the fruit names to uppercase\n",
    "mix_fruits[0] = mix_fruits[0].upper()\n",
    "print(mix_fruits)\n"
   ]
  },
  {
   "cell_type": "code",
   "execution_count": 111,
   "metadata": {},
   "outputs": [
    {
     "name": "stdout",
     "output_type": "stream",
     "text": [
      "Guava#Mango#Apple#Pear#Fig#Orange#Banana\n",
      "True\n"
     ]
    }
   ],
   "source": [
    "mix_fruits = [\"Guava\", \"Mango\", \"Apple\", \"Pear\", \"Fig\", \"Orange\", \"Banana\"]\n",
    "\n",
    "# 13. Join the elements in **`mix_fruits`** with a string **`-#-`**\n",
    "mix_fruits_str = \"#\".join(mix_fruits)\n",
    "print(mix_fruits_str)\n",
    "\n",
    "# 14. Check if a certain fruit exists in the **`mix_fruits`** list.\n",
    "if mix_fruits[len(mix_fruits) // 2] == \"Pear\":\n",
    "    print(\"True\")\n",
    "else:\n",
    "    print(\"False\")"
   ]
  },
  {
   "cell_type": "code",
   "execution_count": 112,
   "metadata": {},
   "outputs": [
    {
     "name": "stdout",
     "output_type": "stream",
     "text": [
      "Sorted (Asc):  ['Apple', 'Banana', 'Fig', 'Guava', 'Mango', 'Orange', 'Pear']\n",
      "Sorted (Desc):  ['Pear', 'Orange', 'Mango', 'Guava', 'Fig', 'Banana', 'Apple']\n"
     ]
    }
   ],
   "source": [
    "# 15. Sort the list using **[sort()]()** method\n",
    "mix_fruits.sort()\n",
    "print(\"Sorted (Asc): \", mix_fruits)\n",
    "\n",
    "# 16. Reverse the list in descending order using **[reverse()]()** method\n",
    "mix_fruits.reverse()\n",
    "print(\"Sorted (Desc): \", mix_fruits)"
   ]
  },
  {
   "cell_type": "code",
   "execution_count": 113,
   "metadata": {},
   "outputs": [
    {
     "name": "stdout",
     "output_type": "stream",
     "text": [
      "first 3 fruits ['Guava', 'Mango', 'Apple']\n",
      "last 3 fruits ['Fig', 'Orange', 'Banana']\n"
     ]
    }
   ],
   "source": [
    "mix_fruits = [\"Guava\", \"Mango\", \"Apple\", \"Pear\", \"Fig\", \"Orange\", \"Banana\"]\n",
    "\n",
    "# 17. Slice out the first 3 fruits from the list\n",
    "print(\"first 3 fruits\",mix_fruits[0:3])\n",
    "\n",
    "# 18. Slice out the last 3 fruits from the list\n",
    "print(\"last 3 fruits\",mix_fruits[len(mix_fruits)-3 : len(mix_fruits)])\n"
   ]
  },
  {
   "cell_type": "code",
   "execution_count": 114,
   "metadata": {},
   "outputs": [
    {
     "name": "stdout",
     "output_type": "stream",
     "text": [
      "Pear\n"
     ]
    }
   ],
   "source": [
    "mix_fruits = [\"Guava\", \"Mango\", \"Apple\", \"Pear\", \"Fig\", \"Orange\", \"Banana\"]\n",
    "\n",
    "# 19. Slice out the middle fruit or fruits from the list\n",
    "if len(mix_fruits) % 2 == 0:\n",
    "    print(mix_fruits[(len(mix_fruits)//2) - 1], \",\", mix_fruits[(len(mix_fruits)//2)])\n",
    "else:\n",
    "    print(mix_fruits[(len(mix_fruits)//2)])\n"
   ]
  },
  {
   "cell_type": "code",
   "execution_count": 115,
   "metadata": {},
   "outputs": [
    {
     "data": {
      "text/plain": [
       "['Mango', 'Apple', 'Pear', 'Fig', 'Orange', 'Banana']"
      ]
     },
     "execution_count": 115,
     "metadata": {},
     "output_type": "execute_result"
    }
   ],
   "source": [
    "# 20. Remove the first fruit from the list\n",
    "mix_fruits.pop(0)\n",
    "mix_fruits"
   ]
  },
  {
   "cell_type": "code",
   "execution_count": 116,
   "metadata": {},
   "outputs": [
    {
     "data": {
      "text/plain": [
       "['Guava', 'Mango', 'Apple', 'Fig', 'Orange', 'Banana']"
      ]
     },
     "execution_count": 116,
     "metadata": {},
     "output_type": "execute_result"
    }
   ],
   "source": [
    "mix_fruits = [\"Guava\", \"Mango\", \"Apple\", \"Pear\", \"Fig\", \"Orange\", \"Banana\"]\n",
    "\n",
    "# 21. Remove the middle fruit or companies from the list\n",
    "if len(mix_fruits) % 2 == 0:\n",
    "    mix_fruits.pop((len(mix_fruits)//2) - 1)\n",
    "    mix_fruits.pop((len(mix_fruits)//2))\n",
    "else:\n",
    "    mix_fruits.pop((len(mix_fruits)//2))\n",
    "\n",
    "mix_fruits"
   ]
  },
  {
   "cell_type": "code",
   "execution_count": 117,
   "metadata": {},
   "outputs": [
    {
     "data": {
      "text/plain": [
       "['Guava', 'Mango', 'Apple', 'Fig', 'Orange']"
      ]
     },
     "execution_count": 117,
     "metadata": {},
     "output_type": "execute_result"
    }
   ],
   "source": [
    "# 22. Remove the last fruit from the list\n",
    "mix_fruits.pop(len(mix_fruits)-1)\n",
    "mix_fruits"
   ]
  },
  {
   "cell_type": "code",
   "execution_count": 118,
   "metadata": {},
   "outputs": [
    {
     "data": {
      "text/plain": [
       "[]"
      ]
     },
     "execution_count": 118,
     "metadata": {},
     "output_type": "execute_result"
    }
   ],
   "source": [
    "# 23. Remove all fruits from the list\n",
    "mix_fruits.clear()\n",
    "mix_fruits"
   ]
  },
  {
   "cell_type": "code",
   "execution_count": 119,
   "metadata": {},
   "outputs": [],
   "source": [
    "# 24. Delete the fruits list\n",
    "del(mix_fruits)"
   ]
  },
  {
   "cell_type": "code",
   "execution_count": 139,
   "metadata": {},
   "outputs": [
    {
     "name": "stdout",
     "output_type": "stream",
     "text": [
      "['HTML', 'CSS', 'JS', 'React', 'Redux', 'Python, SQL', 'Node', 'Express', 'MongoDB']\n"
     ]
    }
   ],
   "source": [
    "# 25. Join the following lists:\n",
    "\n",
    "front_end = ['HTML', 'CSS', 'JS', 'React', 'Redux']\n",
    "back_end = ['Node','Express', 'MongoDB']\n",
    "new_list = front_end + back_end\n",
    "\n",
    "# 26. After joining the lists in question 25.\n",
    "# Copy the joined list and assign it to a variable full_stack. Then insert **`'Python'`** and **`'SQL'`** after **`'Redux'`**.\n",
    "full_stack = new_list.copy()\n",
    "addLinguages = \", \".join([\"Python\", \"SQL\"])\n",
    "indexLanguages = full_stack.index(\"Redux\") + 1\n",
    "full_stack.insert(indexLanguages, addLinguages)\n",
    "print(full_stack)"
   ]
  },
  {
   "cell_type": "markdown",
   "metadata": {},
   "source": [
    "***** Level 2 *****"
   ]
  },
  {
   "cell_type": "code",
   "execution_count": 138,
   "metadata": {},
   "outputs": [
    {
     "name": "stdout",
     "output_type": "stream",
     "text": [
      "Sorted:  [19, 19, 20, 21, 23, 24, 25, 25, 25, 26]\n",
      "min:  19\n",
      "max:  26\n",
      "ages after addition min & max again:  [19, 19, 20, 21, 23, 24, 25, 25, 25, 26, 19, 19]\n",
      "24 25\n",
      "average age:  22.083333333333332\n",
      "Range:  0\n"
     ]
    }
   ],
   "source": [
    "# 1. The following is a list of 10 students ages:\n",
    "ages = [19, 23, 19, 25, 21, 20, 25, 26, 25, 24]\n",
    "#     - Sort the list and find the min and max age\n",
    "ages.sort()\n",
    "print(\"Sorted: \", ages)\n",
    "print(\"min: \", min(ages))\n",
    "print(\"max: \", ages[len(ages)-1])\n",
    "\n",
    "\n",
    "#     - Add the min age and the max age again to the list\n",
    "ages.append(min(ages))\n",
    "ages.append(ages[len(ages)-1])\n",
    "print(\"ages after addition min & max again: \",ages)\n",
    "\n",
    "#     - Find the median age (one middle item or two middle items divided by two)\n",
    "if len(ages) % 2 == 0:\n",
    "    print(ages[(len(ages) // 2) -1] , ages[len(ages) // 2])\n",
    "else:\n",
    "    print(ages[len(ages) // 2])\n",
    "\n",
    "#     - Find the average age (sum of all items divided by their number )\n",
    "sum = 0\n",
    "for i in ages:\n",
    "    sum += i\n",
    "average = sum / len(ages)\n",
    "print(\"average age: \", average)\n",
    "\n",
    "#     - Find the range of the ages (max - min)\n",
    "range = ages[len(ages)-1] - min(ages)\n",
    "print(\"Range: \", range)\n",
    "\n",
    "#     - Compare the value of (min - average) and (max - average), use **[abs()]** method\n",
    "if min(ages) < average:\n",
    "    avgMin = abs(min(ages) - average)\n",
    "if ages[len(ages)-1] < average:\n",
    "    avgMax = abs(ages[len(ages)-1] - average)\n",
    "\n"
   ]
  },
  {
   "cell_type": "code",
   "execution_count": 140,
   "metadata": {},
   "outputs": [
    {
     "name": "stdout",
     "output_type": "stream",
     "text": [
      "['Finland']\n",
      "firts part:  ['India', 'Russia', 'China']\n",
      "second part:  ['Sweden', 'Norway', 'Denmark']\n",
      "first Country:  India\n",
      "second Country:  Russia\n",
      "third Country:  China\n",
      "rest Countries:  ['Finland', 'Sweden', 'Norway', 'Denmark']\n"
     ]
    }
   ],
   "source": [
    "countries = ['India', 'Russia', 'China','Finland', 'Sweden', 'Norway', 'Denmark']\n",
    "startMiddle = 0\n",
    "endMiddle = 0\n",
    "\n",
    "if len(countries) % 2 == 0:\n",
    "    startMiddle = (len(countries)//2) - 1\n",
    "    endMiddle = (len(countries)//2)\n",
    "else:\n",
    "    startMiddle = len(countries)//2\n",
    "    endMiddle = startMiddle\n",
    "\n",
    "# 2. Find the middle country(ies) in the **[countries list]()**\n",
    "print(countries[startMiddle:endMiddle + 1])\n",
    "\n",
    "# 3. Divide the countries list into two equal lists if it is even if not one more country for the first half.\n",
    "firstPart = countries[0:endMiddle]\n",
    "secondPart = countries[endMiddle+1:len(countries)] \n",
    "print(\"firts part: \", firstPart)\n",
    "print(\"second part: \", secondPart)\n",
    "\n",
    "\n",
    "# 4. Unpack the first three countries and the rest as scandic countries.\n",
    "firstCountry, secondCountry, thirdCountry = countries[0:3]\n",
    "restCountries = countries[3:len(countries)]\n",
    "print(\"first Country: \", firstCountry)\n",
    "print(\"second Country: \", secondCountry)\n",
    "print(\"third Country: \", thirdCountry)\n",
    "print(\"rest Countries: \", restCountries)\n"
   ]
  },
  {
   "cell_type": "markdown",
   "metadata": {},
   "source": [
    "Exercises Tuple"
   ]
  },
  {
   "cell_type": "markdown",
   "metadata": {},
   "source": [
    "***** Level 1 *****"
   ]
  },
  {
   "cell_type": "code",
   "execution_count": 141,
   "metadata": {},
   "outputs": [
    {
     "name": "stdout",
     "output_type": "stream",
     "text": [
      "('Guava', 'Mango', 'Fig', 'Orange', 'Banana', 'Tomatoes', 'Pepper', 'Lemon')\n",
      "8\n",
      "('Guava', 'Mango', 'Fig', 'Orange', 'Banana', 'Tomatoes', 'Pepper', 'Lemon', 'Mushroom', 'Mango')\n"
     ]
    }
   ],
   "source": [
    "# 1. Create a tuple containing names of **`fruits`** and **`vegetables`**\n",
    "fruits = (\"Guava\", \"Mango\", \"Fig\", \"Orange\", \"Banana\")\n",
    "vegetables = (\"Tomatoes\", \"Pepper\",\"Lemon\")\n",
    "\n",
    "# 2. Join **`fruits`** and **`vegetables`** tuples and assign it to **`fruits_vegetables`**\n",
    "fruits_vegetables = fruits + vegetables\n",
    "print(fruits_vegetables)\n",
    "\n",
    "# 3. How many **`fruits_vegetables`** do you have?\n",
    "print(len(fruits_vegetables))\n",
    "\n",
    "# 4. Modify the **`fruits_vegetables`** tuple and add the name of your favorite mushroom and beverage and assign it to **`food_tuple`** \n",
    "    # Will appear error, because tuple is Immutable\n",
    "favourite = (\"Mushroom\" , \"Mango\")\n",
    "food_tuple = fruits_vegetables +  favourite\n",
    "print(food_tuple)\n",
    "\n"
   ]
  },
  {
   "cell_type": "markdown",
   "metadata": {},
   "source": [
    " ***** Level 2 *****"
   ]
  },
  {
   "cell_type": "code",
   "execution_count": 142,
   "metadata": {},
   "outputs": [
    {
     "name": "stdout",
     "output_type": "stream",
     "text": [
      "('Banana', 'Tomatoes')\n",
      "first three items:  ('Guava', 'Mango', 'Fig')\n",
      "first three items:  ('Lemon', 'Mushroom', 'Mango')\n"
     ]
    }
   ],
   "source": [
    "# 1. Unpack **`fruits_vegetables`** and mushroom and beverage from **`food_tuple`**\n",
    "fruits_vegetables, mushroom, beverage = food_tuple[0:len(food_tuple)-2] , food_tuple[len(food_tuple)-2], food_tuple[len(food_tuple)-1] \n",
    "\n",
    "# 2. Change the about **`food_tuple`** tuple to a **`food_list`** list\n",
    "food_list = list(food_tuple)\n",
    "\n",
    "# 3. Slice out the middle item or items from the **`food_tuple`** tuple or **`food_list`** list.\n",
    "startMiddle = 0\n",
    "endMiddle = 0\n",
    "if len(food_tuple) % 2 == 0:\n",
    "    startMiddle = (len(food_tuple)//2) - 1\n",
    "    endMiddle = (len(food_tuple)//2)\n",
    "else:\n",
    "    startMiddle = len(food_tuple)//2\n",
    "    endMiddle = startMiddle\n",
    "print(food_tuple[startMiddle:endMiddle+1])\n",
    "\n",
    "# 4. Slice out the first three items and the last three items from **`food_list`** list\n",
    "print(\"first three items: \",food_tuple[0:3])\n",
    "print(\"first three items: \",food_tuple[len(food_list)-3:])\n",
    "\n",
    "# 5. Delete the **`food_tuple`** tuple completely\n",
    "del(food_tuple)\n"
   ]
  },
  {
   "cell_type": "code",
   "execution_count": 143,
   "metadata": {},
   "outputs": [
    {
     "name": "stdout",
     "output_type": "stream",
     "text": [
      "Yes, India is a asian country\n"
     ]
    }
   ],
   "source": [
    "# 6. Check if an item exists in tuple:\n",
    "#     - Check if **`'Finland'`** is a asian country\n",
    "#     - Check if **`'India'`** is a asian country\n",
    "\n",
    "asian_countries = ('India','China','Singapore','Thailand','Indonesia')\n",
    "if \"Finland\" in asian_countries:\n",
    "    print(\"Yes, Finland is a asian country\")\n",
    "\n",
    "if \"India\" in asian_countries:\n",
    "    print(\"Yes, India is a asian country\")\n"
   ]
  },
  {
   "cell_type": "markdown",
   "metadata": {},
   "source": [
    "Exercises Dictionary"
   ]
  },
  {
   "cell_type": "code",
   "execution_count": 144,
   "metadata": {},
   "outputs": [
    {
     "name": "stdout",
     "output_type": "stream",
     "text": [
      "{'name': 'Pigen', 'color': 'White', 'breed': 'Columbidae', 'legs': '2', 'age': '2 month'}\n"
     ]
    }
   ],
   "source": [
    "# 1. Create an empty dictionary called **`bird`**\n",
    "bird = {}\n",
    "\n",
    "# 2. Add **`name`**, **`color`**, **`breed`**, **`legs`**, **`age`** to the **`bird`** dictionary\n",
    "bird['name'] = \"Pigen\"\n",
    "bird['color'] = \"White\"\n",
    "bird['breed'] = \"Columbidae\"\n",
    "bird['legs'] = \"2\"\n",
    "bird['age'] = \"2 month\"\n",
    "print(bird)\n"
   ]
  },
  {
   "cell_type": "code",
   "execution_count": 146,
   "metadata": {},
   "outputs": [
    {
     "name": "stdout",
     "output_type": "stream",
     "text": [
      "length of Student dict:  9\n"
     ]
    }
   ],
   "source": [
    "# 3. Create a **`student`** dictionary and add **`first_name`**, **`last_name`**, **`gender`**, **`age`**, **`marital_status`**, **`skills`**, **`country`**, **`city`** and **`address`** as keys for the dictionary\n",
    "student = {'first_ name': \"Amira\", 'last_name': \"Hassan\", 'gender': \"Female\", 'age': 21, 'marital_status': \"single\", 'skills': ['C', 'Java'], 'country': \"Egypt\", 'city': \"Cairo\", 'address': \"Ghamra Station\"}\n",
    "\n",
    "# 4. Get the length of the **`student`** dictionary\n",
    "print(\"length of Student dict: \",len(student))\n"
   ]
  },
  {
   "cell_type": "code",
   "execution_count": 147,
   "metadata": {},
   "outputs": [
    {
     "name": "stdout",
     "output_type": "stream",
     "text": [
      "Skills:  ['C', 'Java']\n",
      "Skills:  ['C', 'Java', 'JS']\n"
     ]
    }
   ],
   "source": [
    "# 5. Get the value of **`skills`** and check the data type, it should be a list\n",
    "print(\"Skills: \", student[\"skills\"])\n",
    "\n",
    "# 6. Modify the **`skills`** values by adding one or two skills\n",
    "student[\"skills\"].append(\"JS\")\n",
    "print(\"Skills: \", student[\"skills\"])"
   ]
  },
  {
   "cell_type": "code",
   "execution_count": 148,
   "metadata": {},
   "outputs": [
    {
     "name": "stdout",
     "output_type": "stream",
     "text": [
      "Keys:  ['first_ name', 'last_name', 'gender', 'age', 'marital_status', 'skills', 'country', 'city', 'address']\n",
      "Values:  ['Amira', 'Hassan', 'Female', 21, 'single', ['C', 'Java', 'JS'], 'Egypt', 'Cairo', 'Ghamra Station']\n",
      "[('first_ name', 'Amira'), ('last_name', 'Hassan'), ('gender', 'Female'), ('age', 21), ('marital_status', 'single'), ('skills', ['C', 'Java', 'JS']), ('country', 'Egypt'), ('city', 'Cairo'), ('address', 'Ghamra Station')]\n"
     ]
    }
   ],
   "source": [
    "# 7. Get the dictionary keys as a list\n",
    "print(\"Keys: \",list(student))\n",
    "\n",
    "# 8. Get the dictionary values as a list\n",
    "print(\"Values: \",list(student.values()))\n",
    "\n",
    "# 9. Change the dictionary to a list of tuples using **`items()`** method\n",
    "studentList = [(key,value) for key,value in student.items()]\n",
    "print(studentList)"
   ]
  },
  {
   "cell_type": "code",
   "execution_count": 149,
   "metadata": {},
   "outputs": [],
   "source": [
    "\n",
    "# 10. Delete one of the items in the dictionary\n",
    "student.pop('gender')\n",
    "\n",
    "# 11. Delete one of the dictionaries\n",
    "del(student)"
   ]
  },
  {
   "cell_type": "markdown",
   "metadata": {},
   "source": [
    "Exercises Set"
   ]
  },
  {
   "cell_type": "code",
   "execution_count": 150,
   "metadata": {},
   "outputs": [],
   "source": [
    "mix_fruits = {'Guava', 'Pear', 'Mango', 'Apple', 'Fig', 'Orange', 'Banana'}\n",
    "A = {19, 22, 24, 20, 25, 26}\n",
    "B = {19, 22, 20, 25, 26, 24, 28, 27}\n",
    "num = [22, 19, 24, 25, 26, 24, 25, 24]"
   ]
  },
  {
   "cell_type": "markdown",
   "metadata": {},
   "source": [
    " ***** Level 1 *****"
   ]
  },
  {
   "cell_type": "code",
   "execution_count": 151,
   "metadata": {},
   "outputs": [
    {
     "data": {
      "text/plain": [
       "{'Banana',\n",
       " 'Fig',\n",
       " 'Grape',\n",
       " 'Guava',\n",
       " 'Kiwi',\n",
       " 'Mango',\n",
       " 'Orange',\n",
       " 'Pear',\n",
       " 'Pomegranate'}"
      ]
     },
     "execution_count": 151,
     "metadata": {},
     "output_type": "execute_result"
    }
   ],
   "source": [
    "# 1. Find the length of the set **`mix_fruits`**\n",
    "len(mix_fruits)\n",
    "\n",
    "# 2. Add **`'Kiwi'`** to **`mix_fruits`**\n",
    "mix_fruits.add(\"Kiwi\")\n",
    "\n",
    "# 3. Insert multiple fruits at once to the set **`mix_fruits`**\n",
    "mix_fruits.update({\"Grape\", \"Pomegranate\", \"Apple\"})\n",
    "\n",
    "# 4. Remove one of the fruit from the set **`mix_fruits`**\n",
    "mix_fruits.remove(\"Apple\")\n",
    "mix_fruits\n",
    "\n",
    "# 5. What is the difference between **remove** and **discard**\n",
    " # They have the same function as deleting the item, but remove will appear Error if the value doesnt exist in set\n"
   ]
  },
  {
   "cell_type": "markdown",
   "metadata": {},
   "source": [
    "***** Level 2 *****"
   ]
  },
  {
   "cell_type": "code",
   "execution_count": 152,
   "metadata": {},
   "outputs": [
    {
     "data": {
      "text/plain": [
       "{19, 20, 22, 24, 25, 26, 27, 28}"
      ]
     },
     "execution_count": 152,
     "metadata": {},
     "output_type": "execute_result"
    }
   ],
   "source": [
    "# 1. Join **`A`** and **`B`**\n",
    "A | B\n"
   ]
  },
  {
   "cell_type": "code",
   "execution_count": 153,
   "metadata": {},
   "outputs": [
    {
     "data": {
      "text/plain": [
       "{19, 20, 22, 24, 25, 26}"
      ]
     },
     "execution_count": 153,
     "metadata": {},
     "output_type": "execute_result"
    }
   ],
   "source": [
    "# 2. Find **`A`** intersection **`B`**\n",
    "A & B"
   ]
  },
  {
   "cell_type": "code",
   "execution_count": 154,
   "metadata": {},
   "outputs": [
    {
     "data": {
      "text/plain": [
       "True"
      ]
     },
     "execution_count": 154,
     "metadata": {},
     "output_type": "execute_result"
    }
   ],
   "source": [
    "# 3. Is **`A`** subset of **`B`**\n",
    "A <= B"
   ]
  },
  {
   "cell_type": "code",
   "execution_count": 155,
   "metadata": {},
   "outputs": [
    {
     "data": {
      "text/plain": [
       "False"
      ]
     },
     "execution_count": 155,
     "metadata": {},
     "output_type": "execute_result"
    }
   ],
   "source": [
    "# 4. Are **`A`** and **`B`** disjoint sets\n",
    "A.isdisjoint(B)"
   ]
  },
  {
   "cell_type": "code",
   "execution_count": 156,
   "metadata": {},
   "outputs": [
    {
     "name": "stdout",
     "output_type": "stream",
     "text": [
      "Join A with B {19, 20, 22, 24, 25, 26, 27, 28}\n",
      "Join B with A {19, 20, 22, 24, 25, 26, 27, 28}\n"
     ]
    }
   ],
   "source": [
    "# 5. Join **`A`** with **`B`** and **`B`** with **`A`**\n",
    "print(\"Join A with B\", A | B)\n",
    "print(\"Join B with A\", B | A)"
   ]
  },
  {
   "cell_type": "code",
   "execution_count": 157,
   "metadata": {},
   "outputs": [
    {
     "data": {
      "text/plain": [
       "{27, 28}"
      ]
     },
     "execution_count": 157,
     "metadata": {},
     "output_type": "execute_result"
    }
   ],
   "source": [
    "# 6. What is the symmetric difference between A and **`B`**\n",
    "A.symmetric_difference(B)"
   ]
  },
  {
   "cell_type": "code",
   "execution_count": 158,
   "metadata": {},
   "outputs": [],
   "source": [
    "# 7. Delete the sets completely\n",
    "del(A)\n",
    "del(B)"
   ]
  },
  {
   "cell_type": "markdown",
   "metadata": {},
   "source": [
    "***** Level 3 *****"
   ]
  },
  {
   "cell_type": "code",
   "execution_count": 159,
   "metadata": {},
   "outputs": [
    {
     "name": "stdout",
     "output_type": "stream",
     "text": [
      "5\n",
      "8\n"
     ]
    }
   ],
   "source": [
    "# 1. Convert the **`num`** to a set and compare the length of the list and the set, which one is bigger?\n",
    "setNum = set(num)\n",
    "print(len(setNum)) # 5\n",
    "print(len(num)) # 8\n",
    "# the list is bigger than set, because set includes unique values (delete dublicated)\n"
   ]
  },
  {
   "cell_type": "code",
   "execution_count": 160,
   "metadata": {},
   "outputs": [],
   "source": [
    "# 2. Explain the difference between the following data types: **string**, **list**, **tuple** and **set**\n",
    "    # string => is immutable, you can not change any character in it\n",
    "    # list => allow with dublicated values, \n",
    "    # tuple is immutable, that is mean you cant not change values in it.\n",
    "    # set include unique values, and insert the values in ascending order\n",
    "     "
   ]
  },
  {
   "cell_type": "code",
   "execution_count": 161,
   "metadata": {},
   "outputs": [
    {
     "data": {
      "text/plain": [
       "12"
      ]
     },
     "execution_count": 161,
     "metadata": {},
     "output_type": "execute_result"
    }
   ],
   "source": [
    "# 3. **`I am a researcher cum teacher and I love to inspire and teach people.`**. How many unique words have been used in the sentence? Use the **`split()`** methods and set to get the unique words.\n",
    "sentance = \"I am a researcher cum teacher and I love to inspire and teach people\"\n",
    "sentanceUnique = sentance.split(\" \")\n",
    "sentanceUnique = set(sentanceUnique)\n",
    "len(sentanceUnique)"
   ]
  },
  {
   "cell_type": "markdown",
   "metadata": {},
   "source": [
    "Exercises Loop"
   ]
  },
  {
   "cell_type": "markdown",
   "metadata": {},
   "source": [
    "***** Level 1 ****"
   ]
  },
  {
   "cell_type": "code",
   "execution_count": 19,
   "metadata": {},
   "outputs": [
    {
     "name": "stdout",
     "output_type": "stream",
     "text": [
      "0\n",
      "1\n",
      "2\n",
      "3\n",
      "4\n",
      "5\n",
      "6\n",
      "7\n",
      "8\n",
      "9\n",
      "10\n",
      "\n",
      "0\n",
      "1\n",
      "2\n",
      "3\n",
      "4\n",
      "5\n",
      "6\n",
      "7\n",
      "8\n",
      "9\n",
      "10\n"
     ]
    }
   ],
   "source": [
    "# 1. Iterate 0 to 10 using **`for`** loop, do the same using **`while`** loop.\n",
    "for x in range(0,11):\n",
    "    print(x)\n",
    "\n",
    "x = 0\n",
    "print()\n",
    "while x <= 10:\n",
    "    print(x)\n",
    "    x += 1"
   ]
  },
  {
   "cell_type": "code",
   "execution_count": 18,
   "metadata": {},
   "outputs": [
    {
     "name": "stdout",
     "output_type": "stream",
     "text": [
      "10\n",
      "9\n",
      "8\n",
      "7\n",
      "6\n",
      "5\n",
      "4\n",
      "3\n",
      "2\n",
      "1\n",
      "\n",
      "10\n",
      "9\n",
      "8\n",
      "7\n",
      "6\n",
      "5\n",
      "4\n",
      "3\n",
      "2\n",
      "1\n",
      "0\n"
     ]
    }
   ],
   "source": [
    "# 2. Iterate 10 to 0 using **`for`** loop, do the same using **`while`** loop.\n",
    "for i in range(10,0, -1):\n",
    "    print(i)\n",
    "\n",
    "print()\n",
    "\n",
    "x = 10\n",
    "while x >= 0:\n",
    "    print(x)\n",
    "    x -= 1"
   ]
  },
  {
   "cell_type": "code",
   "execution_count": 17,
   "metadata": {},
   "outputs": [
    {
     "name": "stdout",
     "output_type": "stream",
     "text": [
      "# # # # # # # # #\n",
      "# # # # # # # # #\n",
      "# # # # # # # # #\n",
      "# # # # # # # # #\n",
      "# # # # # # # # #\n",
      "# # # # # # # # #\n",
      "# # # # # # # # #\n",
      "# # # # # # # # #\n"
     ]
    }
   ],
   "source": [
    "# 3. Write a loop that makes seven calls to **`print()`**, so we get on the output the following triangle:\n",
    "\n",
    "# ```py\n",
    "# # # # # # # # #\n",
    "# # # # # # # # #\n",
    "# # # # # # # # #\n",
    "# # # # # # # # #\n",
    "# # # # # # # # #\n",
    "# # # # # # # # #\n",
    "# # # # # # # # #\n",
    "# # # # # # # # #\n",
    "# ```\n",
    "\n",
    "for row in range(0,8):\n",
    "    for col in range(0,8):\n",
    "        print(\"# \", end=\"\")\n",
    "    print(\"#\")"
   ]
  },
  {
   "cell_type": "code",
   "execution_count": 16,
   "metadata": {},
   "outputs": [
    {
     "name": "stdout",
     "output_type": "stream",
     "text": [
      "            # \n",
      "          # # # \n",
      "        # # # # # \n",
      "      # # # # # # # \n",
      "    # # # # # # # # # \n",
      "  # # # # # # # # # # # \n",
      "# # # # # # # # # # # # # \n"
     ]
    }
   ],
   "source": [
    "# 4. Use nested loops to create the following:\n",
    "\n",
    "# ```py\n",
    "#       #\n",
    "#      ###\n",
    "#     #####\n",
    "#    #######\n",
    "#   #########\n",
    "#  ###########\n",
    "# #############\n",
    "# ```\n",
    "max = 7\n",
    "hashCount = 1\n",
    "\n",
    "for row in range(0,max):\n",
    "    for space in range(max-1, row, -1):\n",
    "        print(\" \", end=\" \")\n",
    "\n",
    "    for hash in range(0, hashCount):\n",
    "        print(\"#\", end=\" \")\n",
    "        \n",
    "    hashCount += 2\n",
    "    print()"
   ]
  },
  {
   "cell_type": "code",
   "execution_count": 15,
   "metadata": {},
   "outputs": [
    {
     "name": "stdout",
     "output_type": "stream",
     "text": [
      "0 x 0 = 0\n",
      "1 x 1 = 1\n",
      "2 x 2 = 4\n",
      "3 x 3 = 9\n",
      "4 x 4 = 16\n",
      "5 x 5 = 25\n",
      "6 x 6 = 36\n",
      "7 x 7 = 49\n",
      "8 x 8 = 64\n",
      "9 x 9 = 81\n",
      "10 x 10 = 100\n"
     ]
    }
   ],
   "source": [
    "# 5. Print the following pattern using loops\n",
    "\n",
    "# ```py\n",
    "#    0 x 0 = 0\n",
    "#    1 x 1 = 1\n",
    "#    2 x 2 = 4\n",
    "#    3 x 3 = 9\n",
    "#    4 x 4 = 16\n",
    "#    5 x 5 = 25\n",
    "#    6 x 6 = 36\n",
    "#    7 x 7 = 49\n",
    "#    8 x 8 = 64\n",
    "#    9 x 9 = 81\n",
    "#    10 x 10 = 100\n",
    "# ```\n",
    "\n",
    "for i in range(0, 11):\n",
    "    print(i, \"x\", i, \"=\", i*i)"
   ]
  },
  {
   "cell_type": "code",
   "execution_count": 14,
   "metadata": {},
   "outputs": [
    {
     "name": "stdout",
     "output_type": "stream",
     "text": [
      "Python\n",
      "Numpy\n",
      "Pandas\n",
      "Scikit\n",
      "Pytorch\n"
     ]
    }
   ],
   "source": [
    "# 6. Iterate through the list, ['Python', 'Numpy','Pandas','Scikit', 'Pytorch'] using a **`for`** loop and print out the items.\n",
    "myList = ['Python', 'Numpy','Pandas','Scikit', 'Pytorch']\n",
    "for i in myList:\n",
    "    print(i)\n"
   ]
  },
  {
   "cell_type": "code",
   "execution_count": 13,
   "metadata": {},
   "outputs": [
    {
     "name": "stdout",
     "output_type": "stream",
     "text": [
      "0\n",
      "2\n",
      "4\n",
      "6\n",
      "8\n",
      "10\n",
      "12\n",
      "14\n",
      "16\n",
      "18\n",
      "20\n",
      "22\n",
      "24\n",
      "26\n",
      "28\n",
      "30\n",
      "32\n",
      "34\n",
      "36\n",
      "38\n",
      "40\n",
      "42\n",
      "44\n",
      "46\n",
      "48\n",
      "50\n",
      "52\n",
      "54\n",
      "56\n",
      "58\n",
      "60\n",
      "62\n",
      "64\n",
      "66\n",
      "68\n",
      "70\n",
      "72\n",
      "74\n",
      "76\n",
      "78\n",
      "80\n",
      "82\n",
      "84\n",
      "86\n",
      "88\n",
      "90\n",
      "92\n",
      "94\n",
      "96\n",
      "98\n",
      "100\n"
     ]
    }
   ],
   "source": [
    "# 7. Use **`for`** loop to iterate from 0 to 100 and print only even numbers\n",
    "for i in range(0,101):\n",
    "    if i % 2 == 0:\n",
    "        print(i)"
   ]
  },
  {
   "cell_type": "code",
   "execution_count": 12,
   "metadata": {},
   "outputs": [
    {
     "name": "stdout",
     "output_type": "stream",
     "text": [
      "1\n",
      "3\n",
      "5\n",
      "7\n",
      "9\n",
      "11\n",
      "13\n",
      "15\n",
      "17\n",
      "19\n",
      "21\n",
      "23\n",
      "25\n",
      "27\n",
      "29\n",
      "31\n",
      "33\n",
      "35\n",
      "37\n",
      "39\n",
      "41\n",
      "43\n",
      "45\n",
      "47\n",
      "49\n",
      "51\n",
      "53\n",
      "55\n",
      "57\n",
      "59\n",
      "61\n",
      "63\n",
      "65\n",
      "67\n",
      "69\n",
      "71\n",
      "73\n",
      "75\n",
      "77\n",
      "79\n",
      "81\n",
      "83\n",
      "85\n",
      "87\n",
      "89\n",
      "91\n",
      "93\n",
      "95\n",
      "97\n",
      "99\n"
     ]
    }
   ],
   "source": [
    "# 8. Use **`for`** loop to iterate from 0 to 100 and print only odd numbers\n",
    "for i in range(0,101):\n",
    "    if i % 2 != 0:\n",
    "        print(i)"
   ]
  },
  {
   "cell_type": "markdown",
   "metadata": {},
   "source": [
    "***** Level 2 *****"
   ]
  },
  {
   "cell_type": "code",
   "execution_count": 11,
   "metadata": {},
   "outputs": [
    {
     "name": "stdout",
     "output_type": "stream",
     "text": [
      "The sum of all numbers is 5050\n"
     ]
    }
   ],
   "source": [
    "# 1.  Use **`for`** loop to iterate from 0 to 100 and print the sum of all numbers.\n",
    "\n",
    "# ```py\n",
    "#    The sum of all numbers is 5050.\n",
    "# ```\n",
    "sum = 0\n",
    "for i in range(0, 101):\n",
    "    sum += i\n",
    "print(\"The sum of all numbers is\", sum)\n"
   ]
  },
  {
   "cell_type": "code",
   "execution_count": 10,
   "metadata": {},
   "outputs": [
    {
     "name": "stdout",
     "output_type": "stream",
     "text": [
      "The sum of all evens is 2550 And the sum of all odds is 2500\n"
     ]
    }
   ],
   "source": [
    "# 1. Use **`for`** loop to iterate from 0 to 100 and print the sum of all evens and the sum of all odds.\n",
    "\n",
    "# ```py\n",
    "#     The sum of all evens is 2550. And the sum of all odds is 2500.\n",
    "# ```\n",
    "sumEven = 0\n",
    "sumOdd = 0\n",
    "for i in range(0, 101):\n",
    "    if i % 2 == 0:\n",
    "        sumEven += i\n",
    "    else:\n",
    "        sumOdd += i\n",
    "print(\"The sum of all evens is\", sumEven ,\"And the sum of all odds is\", sumOdd)    \n"
   ]
  },
  {
   "cell_type": "markdown",
   "metadata": {},
   "source": [
    " ***** Level 3 *****"
   ]
  },
  {
   "cell_type": "code",
   "execution_count": 9,
   "metadata": {},
   "outputs": [
    {
     "name": "stdout",
     "output_type": "stream",
     "text": [
      "Finland\n",
      "Iceland\n",
      "Ireland\n",
      "Marshall Islands\n",
      "Netherlands\n",
      "New Zealand\n",
      "Poland\n",
      "Solomon Islands\n",
      "Swaziland\n",
      "Switzerland\n",
      "Thailand\n"
     ]
    }
   ],
   "source": [
    "# 1. Go to the data folder and use the **[countries.py]()** file. Loop through the countries and extract all the countries containing the word **`land`**.\n",
    "from countries import countries\n",
    "for country in countries:\n",
    "    if country.find(\"land\") != -1:\n",
    "        print(country)\n"
   ]
  },
  {
   "cell_type": "code",
   "execution_count": 8,
   "metadata": {},
   "outputs": [
    {
     "name": "stdout",
     "output_type": "stream",
     "text": [
      "lemon\n",
      "mango\n",
      "orange\n",
      "banana\n"
     ]
    }
   ],
   "source": [
    "# 2. This is a fruit list, ['banana', 'orange', 'mango', 'lemon'] reverse the order using loop.\n",
    "fruits = ['banana', 'orange', 'mango', 'lemon']\n",
    "for i in range(len(fruits)-1, -1, -1):\n",
    "    print(fruits[i])"
   ]
  },
  {
   "cell_type": "code",
   "execution_count": 7,
   "metadata": {},
   "outputs": [
    {
     "name": "stdout",
     "output_type": "stream",
     "text": [
      "112\n"
     ]
    }
   ],
   "source": [
    "# 3. Go to the data folder and use the **[countries_details_data.py]()** file.\n",
    " # 1. What are the total number of languages in the data\n",
    "from countries_details_dat import countries_data\n",
    "\n",
    "unique_language = set()\n",
    "for lang in countries_data:\n",
    "    for i in lang[\"languages\"]:\n",
    "        unique_language.add(i)\n",
    "print(len(unique_language))\n"
   ]
  },
  {
   "cell_type": "code",
   "execution_count": 6,
   "metadata": {},
   "outputs": [
    {
     "name": "stdout",
     "output_type": "stream",
     "text": [
      "English  :  91\n",
      "French  :  45\n",
      "Arabic  :  25\n",
      "Spanish  :  24\n",
      "Russian  :  9\n",
      "Portuguese  :  9\n",
      "Dutch  :  8\n",
      "German  :  7\n",
      "Chinese  :  5\n",
      "Swahili  :  4\n"
     ]
    }
   ],
   "source": [
    "# 2. Find the ten most spoken languages from the data\n",
    "from countries_details_dat import countries_data\n",
    "langAndCount = {}\n",
    "allLanguages = []\n",
    "maxSpokenCount = 10\n",
    "\n",
    "    # Store all languages in list\n",
    "for languagesForEachCountry in countries_data:  \n",
    "    for value in  languagesForEachCountry[\"languages\"]:\n",
    "        allLanguages.append(value)\n",
    "\n",
    "    # count the languages and store it in langAndCount dict\n",
    "for searchIndex in range(0, len(allLanguages) - 1):\n",
    "    if langAndCount.get(allLanguages[searchIndex]):\n",
    "        pass\n",
    "    else:\n",
    "        langAndCount[allLanguages[searchIndex]] = 1\n",
    "        for currentIndex in range(searchIndex+1, len(allLanguages)):\n",
    "            if allLanguages[searchIndex] == allLanguages[currentIndex]:\n",
    "                langAndCount[allLanguages[searchIndex]] += 1\n",
    "\n",
    "    # print 10 most spoken languages\n",
    "lang = [(value,key) for key, value in langAndCount.items()] # from https://stackoverflow.com/questions/268272/getting-key-with-maximum-value-in-dictionary\n",
    "for i in range(1, maxSpokenCount+1):\n",
    "    sortedLang = sorted(lang)[len(langAndCount)-i]\n",
    "    print(sortedLang[1], \" : \" ,sortedLang[0])\n"
   ]
  },
  {
   "cell_type": "code",
   "execution_count": 5,
   "metadata": {},
   "outputs": [
    {
     "name": "stdout",
     "output_type": "stream",
     "text": [
      "China\n",
      "India\n",
      "United States of America\n",
      "Indonesia\n",
      "Brazil\n",
      "Pakistan\n",
      "Nigeria\n",
      "Bangladesh\n",
      "Russian Federation\n",
      "Japan\n"
     ]
    }
   ],
   "source": [
    "# 3. Find the 10 most populated countries in the world\n",
    "from countries_details_dat import countries_data\n",
    "population = {}\n",
    "maxPopulatedCountries = 10\n",
    "for country in countries_data:\n",
    "    population[country[\"name\"]] = country[\"population\"]\n",
    "\n",
    "values = [(value,key) for key, value in population.items()]\n",
    "for i in range(1, maxPopulatedCountries+1):\n",
    "    sortedPopulation = sorted(values)[len(population)-i]\n",
    "    print(sortedPopulation[1])\n",
    "\n",
    "    # print(sortedPopulation[1], \" : \", sortedPopulation[0])"
   ]
  },
  {
   "cell_type": "markdown",
   "metadata": {},
   "source": [
    "Exercises While "
   ]
  },
  {
   "cell_type": "code",
   "execution_count": 4,
   "metadata": {},
   "outputs": [
    {
     "name": "stdout",
     "output_type": "stream",
     "text": [
      "A\n",
      "a\n",
      "i\n",
      "l\n",
      "a\n"
     ]
    }
   ],
   "source": [
    "# 1. Display each character from a string and if `a` character is number then stop the loop.\n",
    "name = 'Aaila99godfod'\n",
    "for i in name:\n",
    "    if i.isdigit():\n",
    "        break\n",
    "    else:\n",
    "        print(i)"
   ]
  },
  {
   "cell_type": "code",
   "execution_count": 3,
   "metadata": {},
   "outputs": [
    {
     "name": "stdout",
     "output_type": "stream",
     "text": [
      "A\n",
      "a\n",
      "i\n",
      "l\n",
      "a\n"
     ]
    }
   ],
   "source": [
    "# 2. Write a while loop to display only alphabets from a string.\n",
    "name = 'Aaila99godfod'\n",
    "i = 0\n",
    "while name[i].isalpha():\n",
    "    print(name[i])\n",
    "    i += 1"
   ]
  },
  {
   "cell_type": "code",
   "execution_count": 2,
   "metadata": {},
   "outputs": [
    {
     "name": "stdout",
     "output_type": "stream",
     "text": [
      "1\n",
      "3\n",
      "5\n",
      "7\n"
     ]
    }
   ],
   "source": [
    "# 3. printing odd numbers less than `n` you get form user\n",
    "n = int(input(\"Enter num: \"))\n",
    "for i in range(0, n+1):\n",
    "    if i % 2 != 0:\n",
    "        print(i)"
   ]
  }
 ],
 "metadata": {
  "kernelspec": {
   "display_name": "Python 3",
   "language": "python",
   "name": "python3"
  },
  "language_info": {
   "codemirror_mode": {
    "name": "ipython",
    "version": 3
   },
   "file_extension": ".py",
   "mimetype": "text/x-python",
   "name": "python",
   "nbconvert_exporter": "python",
   "pygments_lexer": "ipython3",
   "version": "3.13.0"
  }
 },
 "nbformat": 4,
 "nbformat_minor": 2
}
